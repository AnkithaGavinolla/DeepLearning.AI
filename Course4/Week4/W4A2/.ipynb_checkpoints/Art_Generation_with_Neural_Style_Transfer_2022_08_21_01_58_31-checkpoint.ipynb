version https://git-lfs.github.com/spec/v1
oid sha256:d1fc79ce44d495ea9fcac78d4cfbc67002991c9237cc897161ef0074feaf4c5a
size 16865793
